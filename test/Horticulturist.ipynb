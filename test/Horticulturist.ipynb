{
 "cells": [
  {
   "cell_type": "code",
   "execution_count": 1,
   "id": "217131db-3dd1-4794-9013-1d764a718c6e",
   "metadata": {},
   "outputs": [],
   "source": [
    "import os, re, sys, json, xmltodict, pandas\n",
    "from io import StringIO\n",
    "from collections import deque, OrderedDict\n",
    "from Perdy.parser import doParse\n",
    "from Spanners.Digger import Digger\n",
    "from Spanners.Treeify import Treeify"
   ]
  },
  {
   "cell_type": "code",
   "execution_count": 2,
   "id": "b2fd2422-b4a5-4c79-b0a5-3409a7b8ef4d",
   "metadata": {},
   "outputs": [],
   "source": [
    "df = pandas.read_excel('data.xlsx').astype(str)\n",
    "digger = Digger(dq=df, stack=[OrderedDict()])"
   ]
  },
  {
   "cell_type": "code",
   "execution_count": 3,
   "id": "a875b7f3-7427-456e-bea7-58ba3888bc86",
   "metadata": {},
   "outputs": [
    {
     "data": {
      "text/html": [
       "<div>\n",
       "<style scoped>\n",
       "    .dataframe tbody tr th:only-of-type {\n",
       "        vertical-align: middle;\n",
       "    }\n",
       "\n",
       "    .dataframe tbody tr th {\n",
       "        vertical-align: top;\n",
       "    }\n",
       "\n",
       "    .dataframe thead th {\n",
       "        text-align: right;\n",
       "    }\n",
       "</style>\n",
       "<table border=\"1\" class=\"dataframe\">\n",
       "  <thead>\n",
       "    <tr style=\"text-align: right;\">\n",
       "      <th></th>\n",
       "      <th>A</th>\n",
       "      <th>B</th>\n",
       "      <th>C</th>\n",
       "    </tr>\n",
       "  </thead>\n",
       "  <tbody>\n",
       "    <tr>\n",
       "      <th>0</th>\n",
       "      <td>1</td>\n",
       "      <td>2</td>\n",
       "      <td>4</td>\n",
       "    </tr>\n",
       "    <tr>\n",
       "      <th>1</th>\n",
       "      <td>1</td>\n",
       "      <td>2</td>\n",
       "      <td>5</td>\n",
       "    </tr>\n",
       "    <tr>\n",
       "      <th>2</th>\n",
       "      <td>1</td>\n",
       "      <td>3</td>\n",
       "      <td>6</td>\n",
       "    </tr>\n",
       "    <tr>\n",
       "      <th>3</th>\n",
       "      <td>1</td>\n",
       "      <td>3</td>\n",
       "      <td>7</td>\n",
       "    </tr>\n",
       "  </tbody>\n",
       "</table>\n",
       "</div>"
      ],
      "text/plain": [
       "   A  B  C\n",
       "0  1  2  4\n",
       "1  1  2  5\n",
       "2  1  3  6\n",
       "3  1  3  7"
      ]
     },
     "execution_count": 3,
     "metadata": {},
     "output_type": "execute_result"
    }
   ],
   "source": [
    "digger.dq"
   ]
  },
  {
   "cell_type": "code",
   "execution_count": 4,
   "id": "e3803cde-0a56-4ff6-9fbb-80f72667229d",
   "metadata": {},
   "outputs": [
    {
     "name": "stdout",
     "output_type": "stream",
     "text": [
      "1\n",
      "\t2\n",
      "\t\t4\n",
      "\t\t5\n",
      "\t3\n",
      "\t\t6\n",
      "\t\t7\n"
     ]
    }
   ],
   "source": [
    "digger.dig()"
   ]
  },
  {
   "cell_type": "code",
   "execution_count": 5,
   "id": "c9d5b85d-c877-45df-b2de-a65404e11df2",
   "metadata": {},
   "outputs": [
    {
     "data": {
      "text/plain": [
       "[OrderedDict([('outline',\n",
       "               [{'@text': '1',\n",
       "                 'outline': [{'@text': '2',\n",
       "                   'outline': [{'@text': '4'}, {'@text': '5'}]},\n",
       "                  {'@text': '3',\n",
       "                   'outline': [{'@text': '6'}, {'@text': '7'}]}]}])])]"
      ]
     },
     "execution_count": 5,
     "metadata": {},
     "output_type": "execute_result"
    }
   ],
   "source": [
    "digger.stack"
   ]
  },
  {
   "cell_type": "code",
   "execution_count": 6,
   "id": "d870fb23-f912-4327-838e-648a14f04e53",
   "metadata": {},
   "outputs": [
    {
     "name": "stdout",
     "output_type": "stream",
     "text": [
      "[\u001b[36m0\u001b[0m]\n",
      " └─\u001b[36moutline\u001b[0m\n",
      "    └─[\u001b[36m0\u001b[0m]\n",
      "       ├─\u001b[32m@text\u001b[0m\n",
      "       │  └─\u001b[35m1\u001b[0m\n",
      "       └─\u001b[36moutline\u001b[0m\n",
      "          ├─[\u001b[36m0\u001b[0m]\n",
      "          │  ├─\u001b[32m@text\u001b[0m\n",
      "          │  │  └─\u001b[35m2\u001b[0m\n",
      "          │  └─\u001b[36moutline\u001b[0m\n",
      "          │     ├─[\u001b[36m0\u001b[0m]\n",
      "          │     │  └─\u001b[32m@text\u001b[0m\n",
      "          │     │     └─\u001b[35m4\u001b[0m\n",
      "          │     └─[\u001b[36m1\u001b[0m]\n",
      "          │        └─\u001b[32m@text\u001b[0m\n",
      "          │           └─\u001b[35m5\u001b[0m\n",
      "          └─[\u001b[36m1\u001b[0m]\n",
      "             ├─\u001b[32m@text\u001b[0m\n",
      "             │  └─\u001b[35m3\u001b[0m\n",
      "             └─\u001b[36moutline\u001b[0m\n",
      "                ├─[\u001b[36m0\u001b[0m]\n",
      "                │  └─\u001b[32m@text\u001b[0m\n",
      "                │     └─\u001b[35m6\u001b[0m\n",
      "                └─[\u001b[36m1\u001b[0m]\n",
      "                   └─\u001b[32m@text\u001b[0m\n",
      "                      └─\u001b[35m7\u001b[0m"
     ]
    }
   ],
   "source": [
    "treeify = Treeify(\n",
    "    ascii = False,\n",
    "    colour = True,\n",
    ")\n",
    "\n",
    "treeify.process(StringIO(json.dumps(digger.stack)), sys.stdout)"
   ]
  },
  {
   "cell_type": "code",
   "execution_count": null,
   "id": "89c61003-5c06-4e2f-9261-77a33a77cc61",
   "metadata": {},
   "outputs": [],
   "source": []
  }
 ],
 "metadata": {
  "kernelspec": {
   "display_name": "Python 3 (ipykernel)",
   "language": "python",
   "name": "python3"
  },
  "language_info": {
   "codemirror_mode": {
    "name": "ipython",
    "version": 3
   },
   "file_extension": ".py",
   "mimetype": "text/x-python",
   "name": "python",
   "nbconvert_exporter": "python",
   "pygments_lexer": "ipython3",
   "version": "3.10.12"
  }
 },
 "nbformat": 4,
 "nbformat_minor": 5
}
