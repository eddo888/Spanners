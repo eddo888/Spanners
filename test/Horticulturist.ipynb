{
 "cells": [
  {
   "cell_type": "code",
   "execution_count": 1,
   "id": "217131db-3dd1-4794-9013-1d764a718c6e",
   "metadata": {},
   "outputs": [],
   "source": [
    "import os, re, sys, json, pandas\n",
    "from io import StringIO\n",
    "from collections import deque, OrderedDict\n",
    "from Spanners.Treeify import Treeify"
   ]
  },
  {
   "cell_type": "code",
   "execution_count": 2,
   "id": "b2fd2422-b4a5-4c79-b0a5-3409a7b8ef4d",
   "metadata": {},
   "outputs": [
    {
     "data": {
      "text/html": [
       "<div>\n",
       "<style scoped>\n",
       "    .dataframe tbody tr th:only-of-type {\n",
       "        vertical-align: middle;\n",
       "    }\n",
       "\n",
       "    .dataframe tbody tr th {\n",
       "        vertical-align: top;\n",
       "    }\n",
       "\n",
       "    .dataframe thead th {\n",
       "        text-align: right;\n",
       "    }\n",
       "</style>\n",
       "<table border=\"1\" class=\"dataframe\">\n",
       "  <thead>\n",
       "    <tr style=\"text-align: right;\">\n",
       "      <th></th>\n",
       "      <th>A</th>\n",
       "      <th>B</th>\n",
       "      <th>C</th>\n",
       "    </tr>\n",
       "  </thead>\n",
       "  <tbody>\n",
       "    <tr>\n",
       "      <th>0</th>\n",
       "      <td>1</td>\n",
       "      <td>2</td>\n",
       "      <td>4</td>\n",
       "    </tr>\n",
       "    <tr>\n",
       "      <th>1</th>\n",
       "      <td>1</td>\n",
       "      <td>2</td>\n",
       "      <td>5</td>\n",
       "    </tr>\n",
       "    <tr>\n",
       "      <th>2</th>\n",
       "      <td>1</td>\n",
       "      <td>3</td>\n",
       "      <td>6</td>\n",
       "    </tr>\n",
       "    <tr>\n",
       "      <th>3</th>\n",
       "      <td>1</td>\n",
       "      <td>3</td>\n",
       "      <td>7</td>\n",
       "    </tr>\n",
       "  </tbody>\n",
       "</table>\n",
       "</div>"
      ],
      "text/plain": [
       "   A  B  C\n",
       "0  1  2  4\n",
       "1  1  2  5\n",
       "2  1  3  6\n",
       "3  1  3  7"
      ]
     },
     "execution_count": 2,
     "metadata": {},
     "output_type": "execute_result"
    }
   ],
   "source": [
    "df = pandas.read_excel('data.xlsx').astype(str)\n",
    "df"
   ]
  },
  {
   "cell_type": "code",
   "execution_count": 9,
   "id": "6b32259e-164e-4429-9382-01dae3bd7f07",
   "metadata": {},
   "outputs": [],
   "source": [
    "class Branch:\n",
    "\t'''\n",
    "\tutility to recurse down into a parsed dataframe\n",
    "\t'''\n",
    "\n",
    "\tdef __init__(self, dq=None, stack=None):\n",
    "\t\t'''\n",
    "\t\tclass object used to create isolation between levels\n",
    "\t\tand copies the dataframe into a reduced set to remove global sharing issues\n",
    "\t\t'''\n",
    "\t\tself.dq = dq.copy()\n",
    "\t\tif stack:\n",
    "\t\t\tself.stack = stack\n",
    "\t\telse:\n",
    "\t\t\tself.stack = [ OrderedDict([]) ]\n",
    "\n",
    "\tdef pushd(self, value):\n",
    "\t\tself.putd(value)\n",
    "\t\tself.stack.append(\n",
    "\t\t\tself.stack[-1][value][-1]\n",
    "\t\t)\n",
    "\n",
    "\tdef putd(self, value):\n",
    "\t\tif value not in self.stack[-1].keys():\n",
    "\t\t\tself.stack[-1][value] = [ OrderedDict([]) ]\n",
    "\n",
    "\tdef popd(self):\n",
    "\t\tself.stack.pop()\n",
    "\n",
    "\tdef graft(self, indent=''):\n",
    "\t\tcolumns = deque(self.dq.columns)\n",
    "\t\tif len(columns) == 0: return\n",
    "\t\tcolumn = columns.popleft()\n",
    "\n",
    "\t\tfor value in self.dq[column].unique():\n",
    "\t\t\tprint(f'{indent}{value}')\n",
    "\n",
    "\t\t\tself.pushd(value)\n",
    "\n",
    "\t\t\tdqq = self.dq[self.dq[column] == value][columns]\n",
    "\t\t\tBranch(dq=dqq, stack=self.stack).graft(indent=f'\\t{indent}')\n",
    "\n",
    "\t\t\tself.popd()\n"
   ]
  },
  {
   "cell_type": "code",
   "execution_count": 10,
   "id": "f4530d42-a99d-4751-a8db-c81df4adc242",
   "metadata": {},
   "outputs": [],
   "source": [
    "tree = Branch(dq=df)"
   ]
  },
  {
   "cell_type": "code",
   "execution_count": 11,
   "id": "e3803cde-0a56-4ff6-9fbb-80f72667229d",
   "metadata": {},
   "outputs": [
    {
     "name": "stdout",
     "output_type": "stream",
     "text": [
      "1\n",
      "\t2\n",
      "\t\t4\n",
      "\t\t5\n",
      "\t3\n",
      "\t\t6\n",
      "\t\t7\n"
     ]
    }
   ],
   "source": [
    "tree.graft()"
   ]
  },
  {
   "cell_type": "code",
   "execution_count": 12,
   "id": "c9d5b85d-c877-45df-b2de-a65404e11df2",
   "metadata": {},
   "outputs": [
    {
     "data": {
      "text/plain": [
       "[OrderedDict([('1',\n",
       "               [OrderedDict([('2',\n",
       "                              [OrderedDict([('4', [OrderedDict()]),\n",
       "                                            ('5', [OrderedDict()])])]),\n",
       "                             ('3',\n",
       "                              [OrderedDict([('6', [OrderedDict()]),\n",
       "                                            ('7', [OrderedDict()])])])])])])]"
      ]
     },
     "execution_count": 12,
     "metadata": {},
     "output_type": "execute_result"
    }
   ],
   "source": [
    "tree.stack"
   ]
  },
  {
   "cell_type": "code",
   "execution_count": 13,
   "id": "d870fb23-f912-4327-838e-648a14f04e53",
   "metadata": {},
   "outputs": [
    {
     "name": "stdout",
     "output_type": "stream",
     "text": [
      "[\u001b[36m0\u001b[0m]\n",
      " └─\u001b[36m1\u001b[0m\n",
      "    └─[\u001b[36m0\u001b[0m]\n",
      "       ├─\u001b[36m2\u001b[0m\n",
      "       │  └─[\u001b[36m0\u001b[0m]\n",
      "       │     ├─\u001b[36m4\u001b[0m\n",
      "       │     │  └─[\u001b[36m0\u001b[0m]\n",
      "       │     └─\u001b[36m5\u001b[0m\n",
      "       │        └─[\u001b[36m0\u001b[0m]\n",
      "       └─\u001b[36m3\u001b[0m\n",
      "          └─[\u001b[36m0\u001b[0m]\n",
      "             ├─\u001b[36m6\u001b[0m\n",
      "             │  └─[\u001b[36m0\u001b[0m]\n",
      "             └─\u001b[36m7\u001b[0m\n",
      "                └─[\u001b[36m0\u001b[0m]"
     ]
    }
   ],
   "source": [
    "treeify = Treeify(\n",
    "    ascii = False,\n",
    "    colour = True,\n",
    ")\n",
    "\n",
    "treeify.process(StringIO(json.dumps(tree.stack)), sys.stdout)"
   ]
  },
  {
   "cell_type": "code",
   "execution_count": null,
   "id": "89c61003-5c06-4e2f-9261-77a33a77cc61",
   "metadata": {},
   "outputs": [],
   "source": []
  }
 ],
 "metadata": {
  "kernelspec": {
   "display_name": "Python 3 (ipykernel)",
   "language": "python",
   "name": "python3"
  },
  "language_info": {
   "codemirror_mode": {
    "name": "ipython",
    "version": 3
   },
   "file_extension": ".py",
   "mimetype": "text/x-python",
   "name": "python",
   "nbconvert_exporter": "python",
   "pygments_lexer": "ipython3",
   "version": "3.10.12"
  }
 },
 "nbformat": 4,
 "nbformat_minor": 5
}
