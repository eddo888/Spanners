{
 "cells": [
  {
   "cell_type": "code",
   "execution_count": 1,
   "id": "2a176341-2a3b-4d42-938c-15d36e22375d",
   "metadata": {},
   "outputs": [],
   "source": [
    "import os, re, sys, json, xmltodict\n",
    "from io import StringIO\n",
    "from Perdy.pretty import prettyPrintLn, Style\n",
    "from Spanners.Treeify import Treeify"
   ]
  },
  {
   "cell_type": "code",
   "execution_count": 2,
   "id": "b7625376-92b6-4b05-85a2-22a30c9b25e6",
   "metadata": {},
   "outputs": [
    {
     "name": "stdout",
     "output_type": "stream",
     "text": [
      "\u001b[35m{\u001b[0m\n",
      "  \"\u001b[36mone\u001b[0m\":\u001b[35m{\u001b[0m\n",
      "    \"\u001b[36mone_one\u001b[0m\":\u001b[35m{\u001b[0m\n",
      "      \"\u001b[32mone_one\u001b[0m\":\u001b[36m[\u001b[0m\n",
      "        \u001b[35m{\u001b[0m\n",
      "          \"\u001b[32m#text\u001b[0m\":\"\u001b[31m_1_1_1\u001b[0m\"\n",
      "        \u001b[35m}\u001b[0m,\n",
      "        \u001b[35m{\u001b[0m\n",
      "          \"\u001b[32m#text\u001b[0m\":\"\u001b[31m_1_1_2\u001b[0m\"\n",
      "        \u001b[35m}\u001b[0m\n",
      "      \u001b[36m]\u001b[0m\n",
      "    \u001b[35m}\u001b[0m,\n",
      "    \"\u001b[36mone_two\u001b[0m\":\u001b[35m{\u001b[0m\n",
      "      \"\u001b[32m@attr\u001b[0m\":\"\u001b[31m_1_2\u001b[0m\",\n",
      "      \"\u001b[32m#text\u001b[0m\":\"\u001b[31m_1_2_1\u001b[0m\"\n",
      "    \u001b[35m}\u001b[0m\n",
      "  \u001b[35m}\u001b[0m\n",
      "\u001b[35m}\u001b[0m\n"
     ]
    }
   ],
   "source": [
    "j = {\n",
    "    'one': {\n",
    "        'one_one': {\n",
    "            'one_one': [{\n",
    "                '#text': '_1_1_1'\n",
    "            }, {\n",
    "                '#text': '_1_1_2'\n",
    "            }]\n",
    "        },\n",
    "        'one_two': {\n",
    "            '@attr': '_1_2',\n",
    "            '#text': '_1_2_1'\n",
    "        }\n",
    "    }\n",
    "}\n",
    "\n",
    "prettyPrintLn(j)"
   ]
  },
  {
   "cell_type": "code",
   "execution_count": 3,
   "id": "e2d80689-bd94-43d1-a78b-26e6d43cd4bb",
   "metadata": {},
   "outputs": [
    {
     "name": "stdout",
     "output_type": "stream",
     "text": [
      "\u001b[36mone\u001b[0m\n",
      " ├─\u001b[36mone_one\u001b[0m\n",
      " │  └─\u001b[36mone_one\u001b[0m\n",
      " │     ├─[\u001b[36m0\u001b[0m]\n",
      " │     │  └─\u001b[32m#text\u001b[0m\n",
      " │     │     └─\u001b[35m_1_1_1\u001b[0m\n",
      " │     └─[\u001b[36m1\u001b[0m]\n",
      " │        └─\u001b[32m#text\u001b[0m\n",
      " │           └─\u001b[35m_1_1_2\u001b[0m\n",
      " └─\u001b[36mone_two\u001b[0m\n",
      "    ├─\u001b[32m@attr\u001b[0m\n",
      "    │  └─\u001b[35m_1_2\u001b[0m\n",
      "    └─\u001b[32m#text\u001b[0m\n",
      "       └─\u001b[35m_1_2_1\u001b[0m"
     ]
    }
   ],
   "source": [
    "treeify = Treeify(\n",
    "    ascii = False,\n",
    "    colour = True,\n",
    ")\n",
    "treeify.process(StringIO(json.dumps(j)), sys.stdout)"
   ]
  },
  {
   "cell_type": "code",
   "execution_count": null,
   "id": "3d616127-54d2-4c82-8cc0-efaa278f1e67",
   "metadata": {},
   "outputs": [],
   "source": []
  }
 ],
 "metadata": {
  "kernelspec": {
   "display_name": "Python 3 (ipykernel)",
   "language": "python",
   "name": "python3"
  },
  "language_info": {
   "codemirror_mode": {
    "name": "ipython",
    "version": 3
   },
   "file_extension": ".py",
   "mimetype": "text/x-python",
   "name": "python",
   "nbconvert_exporter": "python",
   "pygments_lexer": "ipython3",
   "version": "3.10.12"
  }
 },
 "nbformat": 4,
 "nbformat_minor": 5
}
